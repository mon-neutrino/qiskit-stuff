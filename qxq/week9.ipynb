{
 "cells": [
  {
   "cell_type": "markdown",
   "id": "2103b82d-b042-4bd8-97d4-497c46a8e03c",
   "metadata": {},
   "source": [
    "<div style=\"text-align: center; margin: 50px\">\n",
    "\n",
    "<h1 style=\"text-align: center;\">Qubit by Qubit</h1>\n",
    "<h2 style=\"text-align: center;\">Introduction to Quantum Computing</h1>\n",
    "<h3>Week 9 - Lists and Loops</h3>\n",
    "<h3>Lab notebook</h3>\n",
    "\n",
    "</div>"
   ]
  },
  {
   "cell_type": "code",
   "execution_count": null,
   "id": "6e68955c-e3f4-4698-966e-ae3292517356",
   "metadata": {},
   "outputs": [],
   "source": [
    "# Block 1 - Create a list named favorite_candy with your favorite candy! \n",
    "#Remember to put each candy’s name in quotes."
   ]
  },
  {
   "cell_type": "code",
   "execution_count": null,
   "id": "160551cd-559b-44a0-aaaa-a95131062ed8",
   "metadata": {},
   "outputs": [],
   "source": [
    "# Block 2 - Create a list name candy_rating with your ratings (on a scale of 5) for your favorite candies!"
   ]
  },
  {
   "cell_type": "code",
   "execution_count": null,
   "id": "4ecbda85-d1f3-4e67-b11b-30c1243c6bea",
   "metadata": {},
   "outputs": [],
   "source": [
    "# Block 3 - Print both lists you just created by using the print function."
   ]
  },
  {
   "cell_type": "code",
   "execution_count": null,
   "id": "da5a1768-7e65-4712-9a8c-101002dd39d7",
   "metadata": {},
   "outputs": [],
   "source": [
    "# Block 4 - Display the name of the first candy (index 0) you stored in the list favorite_candy. \n",
    "#Then, display its rating from the list candy_rating."
   ]
  },
  {
   "cell_type": "code",
   "execution_count": null,
   "id": "ba72eb59-08f0-4eb0-b5a1-cae76a28af4c",
   "metadata": {},
   "outputs": [],
   "source": [
    "# Block 5 - Add a new candy to your list of favorite candies."
   ]
  },
  {
   "cell_type": "code",
   "execution_count": null,
   "id": "d66b3c4e-758a-4eb1-a7e7-85eeec0ead59",
   "metadata": {},
   "outputs": [],
   "source": [
    "# Block 6 - Print the names of your favorite candies using a for loop."
   ]
  },
  {
   "cell_type": "code",
   "execution_count": null,
   "id": "df49ac66-52db-47db-8d07-77d185ce2fed",
   "metadata": {},
   "outputs": [],
   "source": [
    "# Block 7 - Now, print your ratings for each candy using a for loop\n"
   ]
  },
  {
   "cell_type": "code",
   "execution_count": null,
   "id": "3139f668-fc35-44c6-a98e-65a321f6a7d3",
   "metadata": {},
   "outputs": [],
   "source": [
    "# Block 8 - Print the numbers from 1 to 100 using the range function\n"
   ]
  },
  {
   "cell_type": "code",
   "execution_count": null,
   "id": "e9a8ac8f-1361-4f2b-b378-66afdb521214",
   "metadata": {},
   "outputs": [],
   "source": [
    "# Block 9 - Print the numbers from 15 to 29 using the range function"
   ]
  },
  {
   "cell_type": "code",
   "execution_count": null,
   "id": "1cf995b0-9dfe-48bb-abe2-df938428dc6f",
   "metadata": {},
   "outputs": [],
   "source": [
    "# Block 10 - FINAL PROJECT\n",
    "# We want to create a database of people’s rating of different candy. \n",
    "# Ask a user how many candies they want to enter and rate. \n",
    "# Then, ask the user for the name of each candy and its rating, storing each in separate lists. \n",
    "# Finally, print a chart of the name and ratings of the candy entered by the user."
   ]
  }
 ],
 "metadata": {
  "kernelspec": {
   "display_name": "Qiskit v0.32.1 (ipykernel)",
   "language": "python",
   "name": "python3"
  },
  "language_info": {
   "codemirror_mode": {
    "name": "ipython",
    "version": 3
   },
   "file_extension": ".py",
   "mimetype": "text/x-python",
   "name": "python",
   "nbconvert_exporter": "python",
   "pygments_lexer": "ipython3",
   "version": "3.8.10"
  },
  "widgets": {
   "application/vnd.jupyter.widget-state+json": {
    "state": {},
    "version_major": 2,
    "version_minor": 0
   }
  }
 },
 "nbformat": 4,
 "nbformat_minor": 5
}
